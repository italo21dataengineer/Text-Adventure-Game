{
 "cells": [
  {
   "cell_type": "markdown",
   "id": "78e804a2",
   "metadata": {},
   "source": [
    "# You Text Adventure Game - Based on a famous Netflix Series\n",
    "\n",
    "This is a game designed for all the fandom of the Netflix series \"You\". If you remember all the details of the scenes that took place during the initial seasons of this amazing TV show, there's no doubt you'll get all the right answers. Even if you don't remember all the details, you should still try it to jog your memory. Good luck and have lots of fun!"
   ]
  },
  {
   "cell_type": "code",
   "execution_count": null,
   "id": "779cd4e5",
   "metadata": {},
   "outputs": [],
   "source": [
    "# Import random and time functions that will be used in this game\n",
    "import random\n",
    "import time"
   ]
  },
  {
   "cell_type": "code",
   "execution_count": null,
   "id": "c5c768a3",
   "metadata": {},
   "outputs": [],
   "source": [
    "# Definition of win and fail options\n",
    "def win():\n",
    "    print(\"Congratulations 🏆, you deciphered all the mysteries, so you won the game!\")\n",
    "    \n",
    "def fail():\n",
    "    print(\"👻 Unfortunately you didn't fill out correctly all the blanks, so you lost the game\")"
   ]
  },
  {
   "cell_type": "code",
   "execution_count": null,
   "id": "c88b3ce0",
   "metadata": {},
   "outputs": [],
   "source": [
    "# Request user to enter his/her name to customize the experience, otherwise the game won't start. \n",
    "# Here I used the while loop\n",
    "name = input(\"Enter your name: \")\n",
    "\n",
    "while name == \"\":\n",
    "    print(\"🚨 You didn't enter your name!\")\n",
    "    name = input(\"Enter your name: \")"
   ]
  },
  {
   "cell_type": "code",
   "execution_count": null,
   "id": "5391bcf1",
   "metadata": {},
   "outputs": [],
   "source": [
    "# Brief intro of the game welcoming the user\n",
    "print(f\"\"\"\n",
    "{'🎯  📈  🗡️' * 10}\n",
    "\n",
    "{name}, welcome to the murders number discovery game. This is based on the You Netflix series, so if you are a fan of the TV show, you'll enjoy it from start to finish!\n",
    "\n",
    "{'🎯  📈  🗡️' * 10}\\n\"\"\")"
   ]
  },
  {
   "cell_type": "code",
   "execution_count": null,
   "id": "dec059a5",
   "metadata": {},
   "outputs": [],
   "source": [
    "# Use a countdown\n",
    "print(\"THE STORY BEGINS IN 3 SECONDS...\")\n",
    "\n",
    "for x in reversed(range(1,4)):\n",
    "    time.sleep(1)\n",
    "    print(x)"
   ]
  },
  {
   "cell_type": "code",
   "execution_count": null,
   "id": "d5473a67",
   "metadata": {},
   "outputs": [],
   "source": [
    "# Header of Stage 1\n",
    "print(\"\\n[Stage 1]\")    \n",
    "\n",
    "print(\" \")\n",
    "    \n",
    "print(\"Joe Goldberg is a ________ based in ________ who gets obsessed with aspiring writer Guinevere Beck, therefore begins stalking her through social media and eventually breaks into her apartment to snoop around and know more about her life. Joe even follows her as an incognito to keep tabs on her. After a party night, Beck is drunk and on her way back home, so she accidentally falls onto the ________ and Joe shows up as a hero who saves her and takes her home. He steals her ________ to monitor her chats as she gets a new device.\")"
   ]
  },
  {
   "cell_type": "code",
   "execution_count": null,
   "id": "66cadcfc",
   "metadata": {},
   "outputs": [],
   "source": [
    "occupation_lst = ['dog walker','stripper','bookstore manager','policeman']\n",
    "\n",
    "occupation = input(prompt = \"\"\"\n",
    "1️⃣ Select the occupation of Joe Goldberg (choose from the following list: dog walker, stripper, bookstore manager, policeman):\\n\"\"\").lower()\n",
    "\n",
    "print(\" \")\n",
    "\n",
    "if occupation == 'bookstore manager':\n",
    "    print(\"That's right!✅ You guessed Joe's occupation!\")\n",
    "else:\n",
    "    print(\"⚠️ Not exactly, but let's move on to the next blank to see how your story ends\")"
   ]
  },
  {
   "cell_type": "code",
   "execution_count": null,
   "id": "cf4a8771",
   "metadata": {},
   "outputs": [],
   "source": [
    "city_lst = ['New York City','Chicago','Los Angeles','Miami']\n",
    "\n",
    "city = input(prompt = \"\"\"\n",
    "2️⃣ Choose a city from the following list: New York City, Chicago, Los Angeles, Miami\\n\"\"\").title()\n",
    "\n",
    "print(\" \")\n",
    "\n",
    "if city == 'New York City':\n",
    "    print(\"Good job!✅ You guessed the correct city!\")\n",
    "elif city == 'Chicago':\n",
    "    print(\"The windy city, let's see if that's correct\")\n",
    "elif city == 'Los Angeles':\n",
    "    print(\"You chose the city that is home of movie stars and film studios, let's see if that's correct\")\n",
    "elif city == 'Miami':\n",
    "    print(\"You chose the city of unparalleled beaches, let's see if that's correct\")\n",
    "else:\n",
    "    city == random.choice(city_lst)\n",
    "    print(\"You didn't choose from the list of cities provided, so we will select one randomly for you\")"
   ]
  },
  {
   "cell_type": "code",
   "execution_count": null,
   "id": "2da564ed",
   "metadata": {},
   "outputs": [],
   "source": [
    "place_lst = ['highway','abyss','landing runway','subway track']\n",
    "\n",
    "place  = int(input(prompt = \"\"\"\n",
    "3️⃣ Enter a number from 1 to 4\\n\"\"\"))\n",
    "\n",
    "while place < 1 or place > 4:\n",
    "    print(f\"{place} is not valid\")\n",
    "    place  = int(input(prompt = \"\"\"\n",
    "    3️⃣ Enter a number from 1 to 4\\n\"\"\"))\n",
    "\n",
    "if place == 1:\n",
    "    place_name = place_lst[0]\n",
    "elif place == 2:\n",
    "    place_name = place_lst[1]\n",
    "elif place == 3:\n",
    "    place_name = place_lst[2]\n",
    "else:\n",
    "    place_name = place_lst[3]"
   ]
  },
  {
   "cell_type": "code",
   "execution_count": null,
   "id": "7b4d0136",
   "metadata": {},
   "outputs": [],
   "source": [
    "personal_object  = input(prompt = \"\"\"\n",
    "4️⃣ Enter a personal object almost everyone has nowadays\\n\"\"\")\n",
    "\n",
    "print(\" \")\n",
    "\n",
    "if personal_object == 'phone':\n",
    "    print(\"You guessed it correctly! ✅\")\n",
    "else:\n",
    "    print(\"⚠️ Not quite right, but let's keep moving forward!\")\n",
    "    \n",
    "print(\" \")"
   ]
  },
  {
   "cell_type": "code",
   "execution_count": null,
   "id": "b1a574cd",
   "metadata": {},
   "outputs": [],
   "source": [
    "# Define variable story to store and display what has been created so far\n",
    "story1 = f\"\"\"\n",
    "\\f\n",
    "{'°' * 120}\n",
    "\n",
    "Joe Goldberg is a {occupation} based in {city} who gets obsessed with aspiring writer Guinevere Beck, therefore begins stalking her through social media and eventually breaks into her apartment to snoop around and know more about her life. Joe even follows her as an incognito to keep tabs on her. After a party night, Beck is drunk and on her way back home, so she accidentally falls onto the {place_name} and Joe shows up as a hero who saves her and takes her home. He steals her {personal_object} to monitor her chats as she gets a new device.\n",
    "\n",
    "{'°' * 120}\n",
    "\"\"\"\n",
    "\n",
    "print(story1)"
   ]
  },
  {
   "cell_type": "code",
   "execution_count": null,
   "id": "4a21fcaf",
   "metadata": {},
   "outputs": [],
   "source": [
    "def brother():\n",
    "    print(\"\\nMost of the time, girls' brothers are jealous and represent an obstacle for getting in a relationship\\n\")\n",
    "    \n",
    "    bro = input(\"Should Beck confront her brother? (y/n)\\n\")\n",
    "    \n",
    "    if bro == \"y\":\n",
    "        print(\"\\nProbably it's a good idea to confront her brother. However, this is not how the original story goes. You lost.\")\n",
    "        \n",
    "    elif bro == \"n\":\n",
    "        print(\"\\nBeck prefers to be in good terms with her brother, so she doesn't start a relationship with Joe. However, this is not how the original story goes. You lost.\")\n",
    "        \n",
    "    else:\n",
    "        print(\"\\nInvalid response, please answer 'y' or 'n'.\")\n",
    "        return brother()\n",
    "\n",
    "# Call the function to start the decision process\n",
    "#brother()"
   ]
  },
  {
   "cell_type": "code",
   "execution_count": null,
   "id": "fc7cb2b0",
   "metadata": {},
   "outputs": [],
   "source": [
    "def stg2_story():\n",
    "    print(\"\\n[Stage 2]\")    \n",
    "\n",
    "    print(\" \")\n",
    "    \n",
    "    print(\"Joe discovers that Beck’s boyfriend named Benji is a real tool who treats her rudely and makes her cry, so Joe starts a plan to teach him a lesson. He attacks Benji and locks him up in the ________ of the bookstore’s basement. After a few days, Joe decides to kill Benji and then get rid of his body by ________ it in the woods and making it appear that Benji has run off.\")\n",
    "            \n",
    "    hideout_lst = ['electric chair','book vault','attic','barn']\n",
    "\n",
    "    hideout = input(prompt = \"\"\"\n",
    "5️⃣ Choose the hideout where Joe used to cloister his victims (select from the following list: electric chair, book vault, attic, barn):\\n\"\"\").lower()\n",
    "\n",
    "    print(\" \")\n",
    "\n",
    "    if hideout == 'book vault':\n",
    "        print(\"That's right!✅ You guessed Joe's hideout!\")\n",
    "    else:\n",
    "        print(\"⚠️ Not exactly, but let's move on to the next blank to see how your story ends\")\n",
    "                \n",
    "    killing_method = input(prompt = \"\"\"\n",
    "6️⃣ Enter a verb ending in 'ing' that denotes a way of killing people\\n\"\"\")\n",
    "\n",
    "    print(\" \")\n",
    "\n",
    "    if killing_method == 'burning':\n",
    "        print(\"You guessed it correctly! ✅\")\n",
    "    else:\n",
    "        print(\"⚠️ Not quite right, but let's keep moving forward!\")\n",
    "        \n",
    "    \n",
    "    story2 = f\"\"\"\n",
    "    \\f\n",
    "Joe discovers that Beck’s boyfriend named Benji is a real tool who treats her rudely and makes her cry, so Joe starts a plan to teach him a lesson. He attacks Benji and locks him up in the {hideout} of the bookstore’s basement. After a few days, Joe decides to kill Benji and then get rid of his body by {killing_method} it in the woods and making it appear that Benji has run off.\n",
    "\n",
    "{'°' * 120}\n",
    "\"\"\"\n",
    "    story = story1 + story2\n",
    "    print(story)"
   ]
  },
  {
   "cell_type": "code",
   "execution_count": null,
   "id": "396b555c",
   "metadata": {},
   "outputs": [],
   "source": [
    "def boyfriend():\n",
    "    print(\"\\nCorrect! Beck had an on and off boyfriend\\n\")\n",
    "        \n",
    "    bf = input(\"Should Joe do something about it? (y/n)\\n\")\n",
    "    \n",
    "    if bf == \"y\":\n",
    "        print(\"\\nJoe will do as much as he can to get Beck's boyfriend out of the way. This is how it really happened\")\n",
    "        return stg2_story()\n",
    "    \n",
    "    elif bf == \"n\":\n",
    "        print(\"\\nJoe is a determined guy, so he will go after her beloved one. Unfortunately, you didn't move forward in the game\")\n",
    "    \n",
    "    else:\n",
    "        print(\"\\nInvalid response, please answer 'y' or 'n'.\")\n",
    "        return boyfriend()\n",
    "    \n",
    "# Call the function to start the decision process\n",
    "#boyfriend()"
   ]
  },
  {
   "cell_type": "code",
   "execution_count": null,
   "id": "6728d662",
   "metadata": {},
   "outputs": [],
   "source": [
    "def obstacle():\n",
    "    obs = input(\"Who do you think is the main obstacle in Joe's way of winning Beck's heart? (brother, boyfriend)\\n\")\n",
    "    \n",
    "    if obs == \"brother\":\n",
    "        return brother()\n",
    "    \n",
    "    elif obs == \"boyfriend\":\n",
    "        return boyfriend()\n",
    "    \n",
    "    else:\n",
    "        print(\" \")\n",
    "        print(\"Invalid response, please answer 'brother' or 'boyfriend'.\")\n",
    "        return obstacle()"
   ]
  },
  {
   "cell_type": "code",
   "execution_count": null,
   "id": "be09568a",
   "metadata": {},
   "outputs": [],
   "source": [
    "def stage2():\n",
    "    print(\" \")\n",
    "    \n",
    "    print(\"Great, let's hop on the next part of this intriguing and blood-curdling story!\")\n",
    "    \n",
    "    print(\" \")\n",
    "    \n",
    "    return obstacle()"
   ]
  },
  {
   "cell_type": "code",
   "execution_count": null,
   "id": "1df61ca2",
   "metadata": {},
   "outputs": [],
   "source": [
    "def proceed_stg2():\n",
    "    while True:\n",
    "        stg2 = input(\"Would you like to continue to Stage 2? (y/n)\\n\")\n",
    "        \n",
    "        if stg2 == \"y\":\n",
    "            stage2()\n",
    "            \n",
    "            break\n",
    "        \n",
    "        elif stg2 == \"n\":\n",
    "            print(\" \")\n",
    "            \n",
    "            print(\"Bummer! You lost your chances of creating a wonderful story\")\n",
    "            \n",
    "            exit()\n",
    "        \n",
    "        else:\n",
    "            print(\" \")\n",
    "            \n",
    "            print(\"Invalid response, please answer 'y' or 'n'.\")\n",
    "\n",
    "            proceed_stg2()"
   ]
  },
  {
   "cell_type": "code",
   "execution_count": null,
   "id": "a0d8949a",
   "metadata": {},
   "outputs": [],
   "source": [
    "proceed_stg2()"
   ]
  },
  {
   "cell_type": "code",
   "execution_count": null,
   "id": "10394580",
   "metadata": {},
   "outputs": [],
   "source": [
    "def stage3():\n",
    "    print(\"\\n[Stage 3]\")    \n",
    "\n",
    "    print(\" \")\n",
    "    \n",
    "    print(\"Finally, Joe and Beck get together, but a new obstacle arises. Peach, Beck’s best friend, is suspicious of Joe about Benji’s mysterious death, so she tries to set Beck against Joe. The bookstore guy considers Peach as a ________, so he hits her on the head with a ________ and supposed she died. Unfortunately, she survives and invites Beck to her family estate for a getaway with plans to reveal the secret and ask Beck to move out together to ________. Beck doesn’t like the idea and leaves the estate. Joe kills Peach and frames it as self-inflicted due to ________.\")\n",
    "            \n",
    "    noun_lst = ['threat','blessing','friend','sister']\n",
    "\n",
    "    noun = input(prompt = \"\"\"\n",
    "7️⃣ Select the noun that best describes Peach from the following list: threat, blessing, friend, sister\\n\"\"\").lower()\n",
    "\n",
    "    print(\" \")\n",
    "\n",
    "    if noun == 'threat':\n",
    "        print(\"That's right!✅\")\n",
    "    else:\n",
    "        print(\"⚠️ Wrong answer, but let's move on to the next blank to see how your story ends\")\n",
    "                \n",
    "    solid_object = input(prompt = \"\"\"\n",
    "8️⃣ Enter a solid object\\n\"\"\")\n",
    "\n",
    "    print(\" \")\n",
    "\n",
    "    if solid_object == 'rock':\n",
    "        print(\"Correct answer! ✅\")\n",
    "    else:\n",
    "        print(\"⚠️ Not quite right, but let's keep moving forward!\")\n",
    "            \n",
    "    getaway_city_lst = ['London','Tokyo','Paris','Kuala Lumpur']\n",
    "            \n",
    "    getaway_city  = int(input(prompt = \"\"\"\n",
    "9️⃣ Enter a number from 1 to 4\\n\"\"\"))\n",
    "\n",
    "    while getaway_city < 1 or getaway_city > 4:\n",
    "        print(f\"{getaway_city} is not valid\")\n",
    "        getaway_city  = int(input(prompt = \"\"\"\n",
    "        9️⃣ Enter a number from 1 to 4\\n\"\"\"))\n",
    "\n",
    "        if getaway_city == 1:\n",
    "            getaway_city_name = getaway_city_lst[0]\n",
    "        elif getaway_city == 2:\n",
    "            getaway_city_name = getaway_city_lst[1]\n",
    "        elif getaway_city == 3:\n",
    "            getaway_city_name = getaway_city_lst[2]\n",
    "        else:\n",
    "            getaway_city_name = getaway_city_lst[3]\n",
    "                \n",
    "    death_cause_lst = ['measles','COVID-19','anxiety','heartbreak']\n",
    "\n",
    "    death_cause = input(prompt = \"\"\"\n",
    "🔟 Select a potential cause of death from the following list: measles, COVID-19, anxiety, heartbreak\\n\"\"\").lower()\n",
    "\n",
    "    print(\" \")\n",
    "\n",
    "    if death_cause == 'heartbreak':\n",
    "        print(\"That's right!✅\")\n",
    "    else:\n",
    "        print(\"⚠️ Wrong answer, but let's see how your story ends\")\n",
    "\n",
    "    story3 = f\"\"\"\n",
    "    \\f\n",
    "Finally, Joe and Beck get together, but a new obstacle arises. Peach, Beck’s best friend, is suspicious of Joe about Benji’s mysterious death, so she tries to set Beck against Joe. The bookstore guy considers Peach as a {noun}, so he hits her on the head with a {solid_object} and supposed she died. Unfortunately, she survives and invites Beck to her family estate for a getaway with plans to reveal the secret and ask Beck to move out together to {getaway_city}. Beck doesn’t like the idea and leaves the estate. Joe kills Peach and frames it as self-inflicted due to {death_cause}.\n",
    "\n",
    "{'°' * 120}\n",
    "\"\"\"\n",
    "    story = story1 + story2 + story3\n",
    "    print(story)"
   ]
  },
  {
   "cell_type": "code",
   "execution_count": null,
   "id": "7eab0be0",
   "metadata": {},
   "outputs": [],
   "source": [
    "def proceed_stg3():\n",
    "    while True:\n",
    "        stg3 = input(\"Would you like to continue to Stage 3? (y/n)\\n\")\n",
    "        \n",
    "        if stg3 == \"y\":\n",
    "            stage3()\n",
    "            \n",
    "            break\n",
    "        \n",
    "        elif stg3 == \"n\":\n",
    "            print(\" \")\n",
    "            \n",
    "            print(\"Bummer! You were a few words away from crafting an awesome story\")\n",
    "            \n",
    "            exit()\n",
    "        \n",
    "        else:\n",
    "            print(\" \")\n",
    "            \n",
    "            print(\"Invalid response, please answer 'y' or 'n'.\")\n",
    "\n",
    "            proceed_stg3()"
   ]
  },
  {
   "cell_type": "code",
   "execution_count": null,
   "id": "22d92434",
   "metadata": {},
   "outputs": [],
   "source": [
    "proceed_stg3()"
   ]
  }
 ],
 "metadata": {
  "kernelspec": {
   "display_name": "Python 3 (ipykernel)",
   "language": "python",
   "name": "python3"
  },
  "language_info": {
   "codemirror_mode": {
    "name": "ipython",
    "version": 3
   },
   "file_extension": ".py",
   "mimetype": "text/x-python",
   "name": "python",
   "nbconvert_exporter": "python",
   "pygments_lexer": "ipython3",
   "version": "3.11.5"
  },
  "toc": {
   "base_numbering": 1,
   "nav_menu": {},
   "number_sections": true,
   "sideBar": true,
   "skip_h1_title": false,
   "title_cell": "Table of Contents",
   "title_sidebar": "Contents",
   "toc_cell": false,
   "toc_position": {},
   "toc_section_display": true,
   "toc_window_display": false
  },
  "varInspector": {
   "cols": {
    "lenName": 16,
    "lenType": 16,
    "lenVar": 40
   },
   "kernels_config": {
    "python": {
     "delete_cmd_postfix": "",
     "delete_cmd_prefix": "del ",
     "library": "var_list.py",
     "varRefreshCmd": "print(var_dic_list())"
    },
    "r": {
     "delete_cmd_postfix": ") ",
     "delete_cmd_prefix": "rm(",
     "library": "var_list.r",
     "varRefreshCmd": "cat(var_dic_list()) "
    }
   },
   "types_to_exclude": [
    "module",
    "function",
    "builtin_function_or_method",
    "instance",
    "_Feature"
   ],
   "window_display": false
  }
 },
 "nbformat": 4,
 "nbformat_minor": 5
}
